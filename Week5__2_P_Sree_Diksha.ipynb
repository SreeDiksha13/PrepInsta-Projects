{
  "nbformat": 4,
  "nbformat_minor": 0,
  "metadata": {
    "colab": {
      "provenance": []
    },
    "kernelspec": {
      "name": "python3",
      "display_name": "Python 3"
    },
    "language_info": {
      "name": "python"
    }
  },
  "cells": [
    {
      "cell_type": "markdown",
      "source": [
        "# **WebScraping**"
      ],
      "metadata": {
        "id": "cS4VU1kYFir0"
      }
    },
    {
      "cell_type": "code",
      "execution_count": 2,
      "metadata": {
        "id": "ZHBA9iDY9KNl"
      },
      "outputs": [],
      "source": [
        "import requests\n",
        "from bs4 import BeautifulSoup as bs\n",
        "import pandas as pd"
      ]
    },
    {
      "cell_type": "code",
      "source": [
        "url = \"https://books.toscrape.com/\"\n",
        "page= requests.get(url)\n",
        "page\n"
      ],
      "metadata": {
        "colab": {
          "base_uri": "https://localhost:8080/"
        },
        "id": "Kyy-uMaW9iP3",
        "outputId": "10faf1e2-3704-4538-eff7-1595009cf176"
      },
      "execution_count": 3,
      "outputs": [
        {
          "output_type": "execute_result",
          "data": {
            "text/plain": [
              "<Response [200]>"
            ]
          },
          "metadata": {},
          "execution_count": 3
        }
      ]
    },
    {
      "cell_type": "code",
      "source": [
        "print(page.text)"
      ],
      "metadata": {
        "id": "pXdV_7LJ9iSr"
      },
      "execution_count": null,
      "outputs": []
    },
    {
      "cell_type": "code",
      "source": [
        "soup= bs(page.text)"
      ],
      "metadata": {
        "id": "97h9_ikm9iVo"
      },
      "execution_count": null,
      "outputs": []
    },
    {
      "cell_type": "code",
      "source": [
        "soup.find(\"title\").text"
      ],
      "metadata": {
        "colab": {
          "base_uri": "https://localhost:8080/",
          "height": 36
        },
        "id": "sxyJuKvB9iYp",
        "outputId": "be4688dc-675f-4530-b602-7e0d6ae8464a"
      },
      "execution_count": null,
      "outputs": [
        {
          "output_type": "execute_result",
          "data": {
            "text/plain": [
              "'\\n    All products | Books to Scrape - Sandbox\\n'"
            ],
            "application/vnd.google.colaboratory.intrinsic+json": {
              "type": "string"
            }
          },
          "metadata": {},
          "execution_count": 18
        }
      ]
    },
    {
      "cell_type": "code",
      "source": [
        "tags= soup.find_all(\"article\", class_= \"product_pod\")\n"
      ],
      "metadata": {
        "id": "3YljeGSn9ibw"
      },
      "execution_count": null,
      "outputs": []
    },
    {
      "cell_type": "code",
      "source": [
        "len(tags)"
      ],
      "metadata": {
        "colab": {
          "base_uri": "https://localhost:8080/"
        },
        "id": "H4YHW1g49iew",
        "outputId": "0a4f626e-3afa-4b93-c6c4-abe894c6391f"
      },
      "execution_count": null,
      "outputs": [
        {
          "output_type": "execute_result",
          "data": {
            "text/plain": [
              "20"
            ]
          },
          "metadata": {},
          "execution_count": 20
        }
      ]
    },
    {
      "cell_type": "code",
      "source": [
        "tag= tags[0]\n",
        "tag"
      ],
      "metadata": {
        "colab": {
          "base_uri": "https://localhost:8080/"
        },
        "id": "LEXu2rqd9ihi",
        "outputId": "2fc93f8f-92d6-4632-a472-e28163fde0d3"
      },
      "execution_count": null,
      "outputs": [
        {
          "output_type": "execute_result",
          "data": {
            "text/plain": [
              "<article class=\"product_pod\">\n",
              "<div class=\"image_container\">\n",
              "<a href=\"catalogue/a-light-in-the-attic_1000/index.html\"><img alt=\"A Light in the Attic\" class=\"thumbnail\" src=\"media/cache/2c/da/2cdad67c44b002e7ead0cc35693c0e8b.jpg\"/></a>\n",
              "</div>\n",
              "<p class=\"star-rating Three\">\n",
              "<i class=\"icon-star\"></i>\n",
              "<i class=\"icon-star\"></i>\n",
              "<i class=\"icon-star\"></i>\n",
              "<i class=\"icon-star\"></i>\n",
              "<i class=\"icon-star\"></i>\n",
              "</p>\n",
              "<h3><a href=\"catalogue/a-light-in-the-attic_1000/index.html\" title=\"A Light in the Attic\">A Light in the ...</a></h3>\n",
              "<div class=\"product_price\">\n",
              "<p class=\"price_color\">Â£51.77</p>\n",
              "<p class=\"instock availability\">\n",
              "<i class=\"icon-ok\"></i>\n",
              "    \n",
              "        In stock\n",
              "    \n",
              "</p>\n",
              "<form>\n",
              "<button class=\"btn btn-primary btn-block\" data-loading-text=\"Adding...\" type=\"submit\">Add to basket</button>\n",
              "</form>\n",
              "</div>\n",
              "</article>"
            ]
          },
          "metadata": {},
          "execution_count": 22
        }
      ]
    },
    {
      "cell_type": "code",
      "source": [
        "title= tag.find(\"a\", title=True)\n",
        "title"
      ],
      "metadata": {
        "colab": {
          "base_uri": "https://localhost:8080/"
        },
        "id": "7IBF-BO49ikk",
        "outputId": "4fc1af5e-2813-47f1-e987-64c6c503e341"
      },
      "execution_count": null,
      "outputs": [
        {
          "output_type": "execute_result",
          "data": {
            "text/plain": [
              "<a href=\"catalogue/a-light-in-the-attic_1000/index.html\" title=\"A Light in the Attic\">A Light in the ...</a>"
            ]
          },
          "metadata": {},
          "execution_count": 23
        }
      ]
    },
    {
      "cell_type": "code",
      "source": [
        "title[\"title\"]"
      ],
      "metadata": {
        "colab": {
          "base_uri": "https://localhost:8080/",
          "height": 36
        },
        "id": "-CvND9UY9inf",
        "outputId": "aa61aa19-9e24-4fb4-f033-12f85a9decfd"
      },
      "execution_count": null,
      "outputs": [
        {
          "output_type": "execute_result",
          "data": {
            "text/plain": [
              "'A Light in the Attic'"
            ],
            "application/vnd.google.colaboratory.intrinsic+json": {
              "type": "string"
            }
          },
          "metadata": {},
          "execution_count": 25
        }
      ]
    },
    {
      "cell_type": "code",
      "source": [
        "rating= tag.find(\"p\")[\"class\"][1]\n",
        "rating"
      ],
      "metadata": {
        "colab": {
          "base_uri": "https://localhost:8080/",
          "height": 36
        },
        "id": "x009Ah6G9iqY",
        "outputId": "eb0599d2-ed81-450d-9a28-ff50c6f26957"
      },
      "execution_count": null,
      "outputs": [
        {
          "output_type": "execute_result",
          "data": {
            "text/plain": [
              "'Three'"
            ],
            "application/vnd.google.colaboratory.intrinsic+json": {
              "type": "string"
            }
          },
          "metadata": {},
          "execution_count": 27
        }
      ]
    },
    {
      "cell_type": "code",
      "source": [
        "price = tag.find('p', class_='price_color').text[1:]\n",
        "price"
      ],
      "metadata": {
        "colab": {
          "base_uri": "https://localhost:8080/",
          "height": 36
        },
        "id": "OfR4NPnc9is-",
        "outputId": "619fb75d-ecc2-4e71-aa77-05da8692d140"
      },
      "execution_count": null,
      "outputs": [
        {
          "output_type": "execute_result",
          "data": {
            "text/plain": [
              "'£51.77'"
            ],
            "application/vnd.google.colaboratory.intrinsic+json": {
              "type": "string"
            }
          },
          "metadata": {},
          "execution_count": 29
        }
      ]
    },
    {
      "cell_type": "code",
      "source": [
        "link = 'http://books.toscrape.com/' + tag.find('a')['href']\n",
        "link"
      ],
      "metadata": {
        "colab": {
          "base_uri": "https://localhost:8080/",
          "height": 36
        },
        "id": "aalYuj6M9ivg",
        "outputId": "1342bd48-0762-4b90-f5b4-6620e675ccc2"
      },
      "execution_count": null,
      "outputs": [
        {
          "output_type": "execute_result",
          "data": {
            "text/plain": [
              "'http://books.toscrape.com/catalogue/a-light-in-the-attic_1000/index.html'"
            ],
            "application/vnd.google.colaboratory.intrinsic+json": {
              "type": "string"
            }
          },
          "metadata": {},
          "execution_count": 30
        }
      ]
    },
    {
      "cell_type": "code",
      "source": [
        "def book_details(tag):\n",
        "  title=tag.find('a', title=True)['title']\n",
        "  rating= tag.find(\"p\")[\"class\"][1]\n",
        "  price = tag.find('p', class_='price_color').text[1:]\n",
        "  link = 'http://books.toscrape.com/' + tag.find('a')['href']\n",
        "  return title,rating,price,link"
      ],
      "metadata": {
        "id": "aW607szJDP0f"
      },
      "execution_count": null,
      "outputs": []
    },
    {
      "cell_type": "code",
      "source": [
        "def get_soup(url):\n",
        "\n",
        "    resp = requests.get(url)\n",
        "    if resp.status_code == 200:\n",
        "        return bs(resp.text)\n",
        "    else: return None\n",
        "\n",
        "\n",
        "def get_books(url):\n",
        "\n",
        "    soup = get_soup(url)\n",
        "    tags = soup.find_all('article', class_='product_pod')\n",
        "\n",
        "    books = []\n",
        "    for book_tag in tags:\n",
        "        books.append(book_details(tag))\n",
        "\n",
        "    return books"
      ],
      "metadata": {
        "id": "U3Ktif_iDP35"
      },
      "execution_count": null,
      "outputs": []
    },
    {
      "cell_type": "code",
      "source": [
        "url= \"https://books.toscrape.com/\"\n",
        "books = get_books(url)\n"
      ],
      "metadata": {
        "id": "3N5j1tFxDP-p"
      },
      "execution_count": null,
      "outputs": []
    },
    {
      "cell_type": "code",
      "source": [
        "books"
      ],
      "metadata": {
        "colab": {
          "base_uri": "https://localhost:8080/"
        },
        "id": "ATAQ8druDQBT",
        "outputId": "8f6dd8d0-f062-4e60-c7b5-edd30aee224b"
      },
      "execution_count": null,
      "outputs": [
        {
          "output_type": "execute_result",
          "data": {
            "text/plain": [
              "[('A Light in the Attic',\n",
              "  'Three',\n",
              "  '£51.77',\n",
              "  'http://books.toscrape.com/catalogue/a-light-in-the-attic_1000/index.html'),\n",
              " ('A Light in the Attic',\n",
              "  'Three',\n",
              "  '£51.77',\n",
              "  'http://books.toscrape.com/catalogue/a-light-in-the-attic_1000/index.html'),\n",
              " ('A Light in the Attic',\n",
              "  'Three',\n",
              "  '£51.77',\n",
              "  'http://books.toscrape.com/catalogue/a-light-in-the-attic_1000/index.html'),\n",
              " ('A Light in the Attic',\n",
              "  'Three',\n",
              "  '£51.77',\n",
              "  'http://books.toscrape.com/catalogue/a-light-in-the-attic_1000/index.html'),\n",
              " ('A Light in the Attic',\n",
              "  'Three',\n",
              "  '£51.77',\n",
              "  'http://books.toscrape.com/catalogue/a-light-in-the-attic_1000/index.html'),\n",
              " ('A Light in the Attic',\n",
              "  'Three',\n",
              "  '£51.77',\n",
              "  'http://books.toscrape.com/catalogue/a-light-in-the-attic_1000/index.html'),\n",
              " ('A Light in the Attic',\n",
              "  'Three',\n",
              "  '£51.77',\n",
              "  'http://books.toscrape.com/catalogue/a-light-in-the-attic_1000/index.html'),\n",
              " ('A Light in the Attic',\n",
              "  'Three',\n",
              "  '£51.77',\n",
              "  'http://books.toscrape.com/catalogue/a-light-in-the-attic_1000/index.html'),\n",
              " ('A Light in the Attic',\n",
              "  'Three',\n",
              "  '£51.77',\n",
              "  'http://books.toscrape.com/catalogue/a-light-in-the-attic_1000/index.html'),\n",
              " ('A Light in the Attic',\n",
              "  'Three',\n",
              "  '£51.77',\n",
              "  'http://books.toscrape.com/catalogue/a-light-in-the-attic_1000/index.html'),\n",
              " ('A Light in the Attic',\n",
              "  'Three',\n",
              "  '£51.77',\n",
              "  'http://books.toscrape.com/catalogue/a-light-in-the-attic_1000/index.html'),\n",
              " ('A Light in the Attic',\n",
              "  'Three',\n",
              "  '£51.77',\n",
              "  'http://books.toscrape.com/catalogue/a-light-in-the-attic_1000/index.html'),\n",
              " ('A Light in the Attic',\n",
              "  'Three',\n",
              "  '£51.77',\n",
              "  'http://books.toscrape.com/catalogue/a-light-in-the-attic_1000/index.html'),\n",
              " ('A Light in the Attic',\n",
              "  'Three',\n",
              "  '£51.77',\n",
              "  'http://books.toscrape.com/catalogue/a-light-in-the-attic_1000/index.html'),\n",
              " ('A Light in the Attic',\n",
              "  'Three',\n",
              "  '£51.77',\n",
              "  'http://books.toscrape.com/catalogue/a-light-in-the-attic_1000/index.html'),\n",
              " ('A Light in the Attic',\n",
              "  'Three',\n",
              "  '£51.77',\n",
              "  'http://books.toscrape.com/catalogue/a-light-in-the-attic_1000/index.html'),\n",
              " ('A Light in the Attic',\n",
              "  'Three',\n",
              "  '£51.77',\n",
              "  'http://books.toscrape.com/catalogue/a-light-in-the-attic_1000/index.html'),\n",
              " ('A Light in the Attic',\n",
              "  'Three',\n",
              "  '£51.77',\n",
              "  'http://books.toscrape.com/catalogue/a-light-in-the-attic_1000/index.html'),\n",
              " ('A Light in the Attic',\n",
              "  'Three',\n",
              "  '£51.77',\n",
              "  'http://books.toscrape.com/catalogue/a-light-in-the-attic_1000/index.html'),\n",
              " ('A Light in the Attic',\n",
              "  'Three',\n",
              "  '£51.77',\n",
              "  'http://books.toscrape.com/catalogue/a-light-in-the-attic_1000/index.html')]"
            ]
          },
          "metadata": {},
          "execution_count": 35
        }
      ]
    },
    {
      "cell_type": "code",
      "source": [
        "def get_all_books(page = 3):\n",
        "    books = []\n",
        "    for i in range(1, page+1):\n",
        "        ## This is how the url changes with every page\n",
        "        url = f'http://books.toscrape.com/catalogue/page-{i}.html'\n",
        "        soup = get_soup(url)\n",
        "        if soup:\n",
        "            tags = soup.find_all('article', class_='product_pod')\n",
        "\n",
        "            for tag in tags:\n",
        "                books.append(book_details(tag))\n",
        "\n",
        "    books = pd.DataFrame(books, columns=['title', 'rating', 'price', 'link'])\n",
        "    return books"
      ],
      "metadata": {
        "id": "eshVOA-uDQD4"
      },
      "execution_count": null,
      "outputs": []
    },
    {
      "cell_type": "code",
      "source": [
        "df= get_all_books(3)\n",
        "df.head()"
      ],
      "metadata": {
        "colab": {
          "base_uri": "https://localhost:8080/",
          "height": 206
        },
        "id": "1lJgtsjNDQGi",
        "outputId": "d5325f2a-4670-41fc-a2d8-58cec98ea5fd"
      },
      "execution_count": null,
      "outputs": [
        {
          "output_type": "execute_result",
          "data": {
            "text/plain": [
              "                                   title rating   price  \\\n",
              "0                   A Light in the Attic  Three  £51.77   \n",
              "1                     Tipping the Velvet    One  £53.74   \n",
              "2                             Soumission    One  £50.10   \n",
              "3                          Sharp Objects   Four  £47.82   \n",
              "4  Sapiens: A Brief History of Humankind   Five  £54.23   \n",
              "\n",
              "                                                link  \n",
              "0  http://books.toscrape.com/a-light-in-the-attic...  \n",
              "1  http://books.toscrape.com/tipping-the-velvet_9...  \n",
              "2  http://books.toscrape.com/soumission_998/index...  \n",
              "3  http://books.toscrape.com/sharp-objects_997/in...  \n",
              "4  http://books.toscrape.com/sapiens-a-brief-hist...  "
            ],
            "text/html": [
              "\n",
              "  <div id=\"df-5f7ff254-b534-455d-996b-0f029326a844\" class=\"colab-df-container\">\n",
              "    <div>\n",
              "<style scoped>\n",
              "    .dataframe tbody tr th:only-of-type {\n",
              "        vertical-align: middle;\n",
              "    }\n",
              "\n",
              "    .dataframe tbody tr th {\n",
              "        vertical-align: top;\n",
              "    }\n",
              "\n",
              "    .dataframe thead th {\n",
              "        text-align: right;\n",
              "    }\n",
              "</style>\n",
              "<table border=\"1\" class=\"dataframe\">\n",
              "  <thead>\n",
              "    <tr style=\"text-align: right;\">\n",
              "      <th></th>\n",
              "      <th>title</th>\n",
              "      <th>rating</th>\n",
              "      <th>price</th>\n",
              "      <th>link</th>\n",
              "    </tr>\n",
              "  </thead>\n",
              "  <tbody>\n",
              "    <tr>\n",
              "      <th>0</th>\n",
              "      <td>A Light in the Attic</td>\n",
              "      <td>Three</td>\n",
              "      <td>£51.77</td>\n",
              "      <td>http://books.toscrape.com/a-light-in-the-attic...</td>\n",
              "    </tr>\n",
              "    <tr>\n",
              "      <th>1</th>\n",
              "      <td>Tipping the Velvet</td>\n",
              "      <td>One</td>\n",
              "      <td>£53.74</td>\n",
              "      <td>http://books.toscrape.com/tipping-the-velvet_9...</td>\n",
              "    </tr>\n",
              "    <tr>\n",
              "      <th>2</th>\n",
              "      <td>Soumission</td>\n",
              "      <td>One</td>\n",
              "      <td>£50.10</td>\n",
              "      <td>http://books.toscrape.com/soumission_998/index...</td>\n",
              "    </tr>\n",
              "    <tr>\n",
              "      <th>3</th>\n",
              "      <td>Sharp Objects</td>\n",
              "      <td>Four</td>\n",
              "      <td>£47.82</td>\n",
              "      <td>http://books.toscrape.com/sharp-objects_997/in...</td>\n",
              "    </tr>\n",
              "    <tr>\n",
              "      <th>4</th>\n",
              "      <td>Sapiens: A Brief History of Humankind</td>\n",
              "      <td>Five</td>\n",
              "      <td>£54.23</td>\n",
              "      <td>http://books.toscrape.com/sapiens-a-brief-hist...</td>\n",
              "    </tr>\n",
              "  </tbody>\n",
              "</table>\n",
              "</div>\n",
              "    <div class=\"colab-df-buttons\">\n",
              "\n",
              "  <div class=\"colab-df-container\">\n",
              "    <button class=\"colab-df-convert\" onclick=\"convertToInteractive('df-5f7ff254-b534-455d-996b-0f029326a844')\"\n",
              "            title=\"Convert this dataframe to an interactive table.\"\n",
              "            style=\"display:none;\">\n",
              "\n",
              "  <svg xmlns=\"http://www.w3.org/2000/svg\" height=\"24px\" viewBox=\"0 -960 960 960\">\n",
              "    <path d=\"M120-120v-720h720v720H120Zm60-500h600v-160H180v160Zm220 220h160v-160H400v160Zm0 220h160v-160H400v160ZM180-400h160v-160H180v160Zm440 0h160v-160H620v160ZM180-180h160v-160H180v160Zm440 0h160v-160H620v160Z\"/>\n",
              "  </svg>\n",
              "    </button>\n",
              "\n",
              "  <style>\n",
              "    .colab-df-container {\n",
              "      display:flex;\n",
              "      gap: 12px;\n",
              "    }\n",
              "\n",
              "    .colab-df-convert {\n",
              "      background-color: #E8F0FE;\n",
              "      border: none;\n",
              "      border-radius: 50%;\n",
              "      cursor: pointer;\n",
              "      display: none;\n",
              "      fill: #1967D2;\n",
              "      height: 32px;\n",
              "      padding: 0 0 0 0;\n",
              "      width: 32px;\n",
              "    }\n",
              "\n",
              "    .colab-df-convert:hover {\n",
              "      background-color: #E2EBFA;\n",
              "      box-shadow: 0px 1px 2px rgba(60, 64, 67, 0.3), 0px 1px 3px 1px rgba(60, 64, 67, 0.15);\n",
              "      fill: #174EA6;\n",
              "    }\n",
              "\n",
              "    .colab-df-buttons div {\n",
              "      margin-bottom: 4px;\n",
              "    }\n",
              "\n",
              "    [theme=dark] .colab-df-convert {\n",
              "      background-color: #3B4455;\n",
              "      fill: #D2E3FC;\n",
              "    }\n",
              "\n",
              "    [theme=dark] .colab-df-convert:hover {\n",
              "      background-color: #434B5C;\n",
              "      box-shadow: 0px 1px 3px 1px rgba(0, 0, 0, 0.15);\n",
              "      filter: drop-shadow(0px 1px 2px rgba(0, 0, 0, 0.3));\n",
              "      fill: #FFFFFF;\n",
              "    }\n",
              "  </style>\n",
              "\n",
              "    <script>\n",
              "      const buttonEl =\n",
              "        document.querySelector('#df-5f7ff254-b534-455d-996b-0f029326a844 button.colab-df-convert');\n",
              "      buttonEl.style.display =\n",
              "        google.colab.kernel.accessAllowed ? 'block' : 'none';\n",
              "\n",
              "      async function convertToInteractive(key) {\n",
              "        const element = document.querySelector('#df-5f7ff254-b534-455d-996b-0f029326a844');\n",
              "        const dataTable =\n",
              "          await google.colab.kernel.invokeFunction('convertToInteractive',\n",
              "                                                    [key], {});\n",
              "        if (!dataTable) return;\n",
              "\n",
              "        const docLinkHtml = 'Like what you see? Visit the ' +\n",
              "          '<a target=\"_blank\" href=https://colab.research.google.com/notebooks/data_table.ipynb>data table notebook</a>'\n",
              "          + ' to learn more about interactive tables.';\n",
              "        element.innerHTML = '';\n",
              "        dataTable['output_type'] = 'display_data';\n",
              "        await google.colab.output.renderOutput(dataTable, element);\n",
              "        const docLink = document.createElement('div');\n",
              "        docLink.innerHTML = docLinkHtml;\n",
              "        element.appendChild(docLink);\n",
              "      }\n",
              "    </script>\n",
              "  </div>\n",
              "\n",
              "\n",
              "<div id=\"df-0fd1f3de-445f-41fa-a5cb-2172447285ca\">\n",
              "  <button class=\"colab-df-quickchart\" onclick=\"quickchart('df-0fd1f3de-445f-41fa-a5cb-2172447285ca')\"\n",
              "            title=\"Suggest charts\"\n",
              "            style=\"display:none;\">\n",
              "\n",
              "<svg xmlns=\"http://www.w3.org/2000/svg\" height=\"24px\"viewBox=\"0 0 24 24\"\n",
              "     width=\"24px\">\n",
              "    <g>\n",
              "        <path d=\"M19 3H5c-1.1 0-2 .9-2 2v14c0 1.1.9 2 2 2h14c1.1 0 2-.9 2-2V5c0-1.1-.9-2-2-2zM9 17H7v-7h2v7zm4 0h-2V7h2v10zm4 0h-2v-4h2v4z\"/>\n",
              "    </g>\n",
              "</svg>\n",
              "  </button>\n",
              "\n",
              "<style>\n",
              "  .colab-df-quickchart {\n",
              "      --bg-color: #E8F0FE;\n",
              "      --fill-color: #1967D2;\n",
              "      --hover-bg-color: #E2EBFA;\n",
              "      --hover-fill-color: #174EA6;\n",
              "      --disabled-fill-color: #AAA;\n",
              "      --disabled-bg-color: #DDD;\n",
              "  }\n",
              "\n",
              "  [theme=dark] .colab-df-quickchart {\n",
              "      --bg-color: #3B4455;\n",
              "      --fill-color: #D2E3FC;\n",
              "      --hover-bg-color: #434B5C;\n",
              "      --hover-fill-color: #FFFFFF;\n",
              "      --disabled-bg-color: #3B4455;\n",
              "      --disabled-fill-color: #666;\n",
              "  }\n",
              "\n",
              "  .colab-df-quickchart {\n",
              "    background-color: var(--bg-color);\n",
              "    border: none;\n",
              "    border-radius: 50%;\n",
              "    cursor: pointer;\n",
              "    display: none;\n",
              "    fill: var(--fill-color);\n",
              "    height: 32px;\n",
              "    padding: 0;\n",
              "    width: 32px;\n",
              "  }\n",
              "\n",
              "  .colab-df-quickchart:hover {\n",
              "    background-color: var(--hover-bg-color);\n",
              "    box-shadow: 0 1px 2px rgba(60, 64, 67, 0.3), 0 1px 3px 1px rgba(60, 64, 67, 0.15);\n",
              "    fill: var(--button-hover-fill-color);\n",
              "  }\n",
              "\n",
              "  .colab-df-quickchart-complete:disabled,\n",
              "  .colab-df-quickchart-complete:disabled:hover {\n",
              "    background-color: var(--disabled-bg-color);\n",
              "    fill: var(--disabled-fill-color);\n",
              "    box-shadow: none;\n",
              "  }\n",
              "\n",
              "  .colab-df-spinner {\n",
              "    border: 2px solid var(--fill-color);\n",
              "    border-color: transparent;\n",
              "    border-bottom-color: var(--fill-color);\n",
              "    animation:\n",
              "      spin 1s steps(1) infinite;\n",
              "  }\n",
              "\n",
              "  @keyframes spin {\n",
              "    0% {\n",
              "      border-color: transparent;\n",
              "      border-bottom-color: var(--fill-color);\n",
              "      border-left-color: var(--fill-color);\n",
              "    }\n",
              "    20% {\n",
              "      border-color: transparent;\n",
              "      border-left-color: var(--fill-color);\n",
              "      border-top-color: var(--fill-color);\n",
              "    }\n",
              "    30% {\n",
              "      border-color: transparent;\n",
              "      border-left-color: var(--fill-color);\n",
              "      border-top-color: var(--fill-color);\n",
              "      border-right-color: var(--fill-color);\n",
              "    }\n",
              "    40% {\n",
              "      border-color: transparent;\n",
              "      border-right-color: var(--fill-color);\n",
              "      border-top-color: var(--fill-color);\n",
              "    }\n",
              "    60% {\n",
              "      border-color: transparent;\n",
              "      border-right-color: var(--fill-color);\n",
              "    }\n",
              "    80% {\n",
              "      border-color: transparent;\n",
              "      border-right-color: var(--fill-color);\n",
              "      border-bottom-color: var(--fill-color);\n",
              "    }\n",
              "    90% {\n",
              "      border-color: transparent;\n",
              "      border-bottom-color: var(--fill-color);\n",
              "    }\n",
              "  }\n",
              "</style>\n",
              "\n",
              "  <script>\n",
              "    async function quickchart(key) {\n",
              "      const quickchartButtonEl =\n",
              "        document.querySelector('#' + key + ' button');\n",
              "      quickchartButtonEl.disabled = true;  // To prevent multiple clicks.\n",
              "      quickchartButtonEl.classList.add('colab-df-spinner');\n",
              "      try {\n",
              "        const charts = await google.colab.kernel.invokeFunction(\n",
              "            'suggestCharts', [key], {});\n",
              "      } catch (error) {\n",
              "        console.error('Error during call to suggestCharts:', error);\n",
              "      }\n",
              "      quickchartButtonEl.classList.remove('colab-df-spinner');\n",
              "      quickchartButtonEl.classList.add('colab-df-quickchart-complete');\n",
              "    }\n",
              "    (() => {\n",
              "      let quickchartButtonEl =\n",
              "        document.querySelector('#df-0fd1f3de-445f-41fa-a5cb-2172447285ca button');\n",
              "      quickchartButtonEl.style.display =\n",
              "        google.colab.kernel.accessAllowed ? 'block' : 'none';\n",
              "    })();\n",
              "  </script>\n",
              "</div>\n",
              "\n",
              "    </div>\n",
              "  </div>\n"
            ]
          },
          "metadata": {},
          "execution_count": 40
        }
      ]
    },
    {
      "cell_type": "code",
      "source": [
        "df.to_csv(\"books.csv\", index=False)"
      ],
      "metadata": {
        "id": "roF-dTF7DQI4"
      },
      "execution_count": null,
      "outputs": []
    },
    {
      "cell_type": "code",
      "source": [],
      "metadata": {
        "id": "HUhNdIM0DQLW"
      },
      "execution_count": null,
      "outputs": []
    },
    {
      "cell_type": "code",
      "source": [],
      "metadata": {
        "id": "SfrXEtXeDQN4"
      },
      "execution_count": null,
      "outputs": []
    },
    {
      "cell_type": "code",
      "source": [],
      "metadata": {
        "id": "8wl-7187DQQJ"
      },
      "execution_count": null,
      "outputs": []
    }
  ]
}